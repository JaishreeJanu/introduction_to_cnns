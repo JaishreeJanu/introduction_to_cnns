{
 "cells": [
  {
   "cell_type": "markdown",
   "metadata": {},
   "source": [
    "### Exercise-3 Network Regularization"
   ]
  },
  {
   "cell_type": "code",
   "execution_count": 15,
   "metadata": {
    "ExecuteTime": {
     "end_time": "2021-06-27T20:09:57.582911Z",
     "start_time": "2021-06-27T20:09:55.249325Z"
    }
   },
   "outputs": [],
   "source": [
    "import torch\n",
    "import torch.nn as nn\n",
    "from torchvision.datasets import CIFAR10\n",
    "import numpy as np\n",
    "from torch.utils.data import DataLoader\n",
    "import torch.utils.data\n",
    "import torch.nn.functional as F\n",
    "import torchvision.transforms as transforms\n",
    "\n",
    "from torchvision.transforms import ToTensor\n",
    "\n",
    "import matplotlib.pyplot as plt\n",
    "\n",
    "from bokeh.plotting import figure\n",
    "from bokeh.io import show\n",
    "from bokeh.models import LinearAxis, Range1d\n",
    "\n",
    "from torch.utils.tensorboard import SummaryWriter\n",
    "torch.set_printoptions(linewidth=120)"
   ]
  },
  {
   "cell_type": "code",
   "execution_count": 31,
   "metadata": {
    "ExecuteTime": {
     "end_time": "2021-06-27T20:10:02.793210Z",
     "start_time": "2021-06-27T20:10:02.786269Z"
    }
   },
   "outputs": [],
   "source": [
    "# Hyperparameters\n",
    "num_epochs = 6\n",
    "num_classes = 10\n",
    "batch_size = 100\n",
    "learning_rate = 0.001\n",
    "\n",
    "DATA_PATH = '/home/jaishree/Documents/DA Sem 1/DDA Lab/CNN_image_classification/cifar-10'\n",
    "MODEL_PATH = '/home/jaishree/Documents/DA Sem 1/DDA Lab/CNN_image_classification/results'"
   ]
  },
  {
   "cell_type": "code",
   "execution_count": 41,
   "metadata": {
    "ExecuteTime": {
     "end_time": "2021-06-27T20:10:38.035763Z",
     "start_time": "2021-06-27T20:10:35.021135Z"
    }
   },
   "outputs": [
    {
     "name": "stdout",
     "output_type": "stream",
     "text": [
      "Files already downloaded and verified\n"
     ]
    }
   ],
   "source": [
    "train_dataset = CIFAR10(root = DATA_PATH, download=True, transform=ToTensor())\n",
    "test_dataset = CIFAR10(root = DATA_PATH, train=False, transform=ToTensor())"
   ]
  },
  {
   "cell_type": "code",
   "execution_count": 42,
   "metadata": {
    "ExecuteTime": {
     "end_time": "2021-06-27T20:10:44.183013Z",
     "start_time": "2021-06-27T20:10:44.090214Z"
    }
   },
   "outputs": [],
   "source": [
    "train_len = 25*1000\n",
    "part_train = torch.utils.data.random_split(train_dataset, [train_len, len(train_dataset)-train_len])[0]\n",
    "\n",
    "train_loader = DataLoader(dataset=part_train, batch_size=batch_size, shuffle=True)\n",
    "test_loader = DataLoader(dataset=test_dataset, batch_size=batch_size, shuffle=False)"
   ]
  },
  {
   "cell_type": "code",
   "execution_count": 43,
   "metadata": {
    "ExecuteTime": {
     "end_time": "2021-06-27T20:11:12.225115Z",
     "start_time": "2021-06-27T20:11:12.206465Z"
    }
   },
   "outputs": [],
   "source": [
    "class ConvNet(nn.Module):\n",
    "    def __init__(self):\n",
    "        super(ConvNet, self).__init__()\n",
    "        \n",
    "        self.layer1 = nn.Sequential(\n",
    "            \n",
    "            nn.Conv2d(3, 32, kernel_size=5, stride=1, padding=0),\n",
    "            nn.ReLU(),\n",
    "            nn.MaxPool2d(kernel_size=2, stride=2))\n",
    "        \n",
    "        self.layer2 = nn.Sequential(\n",
    "            nn.Conv2d(32, 64, kernel_size=5, stride=1, padding=2),\n",
    "            nn.ReLU())\n",
    "        \n",
    "        self.layer3 = nn.Sequential(\n",
    "            nn.Conv2d(64, 128, kernel_size=5, stride=1, padding=2),\n",
    "            nn.ReLU(),\n",
    "            nn.MaxPool2d(kernel_size=2, stride=2))\n",
    "        \n",
    "        self.fc_layer_1 = nn.Sequential(\n",
    "            nn.Linear(7*7*128, 1024),\n",
    "            nn.ReLU(inplace=True))\n",
    "        \n",
    "        self.fc_layer_2 = nn.Sequential(\n",
    "            nn.Linear(1024, 512),\n",
    "            nn.ReLU(inplace=True)\n",
    "        )\n",
    "        \n",
    "        self.fc_layer_3 = nn.Sequential(\n",
    "            nn.Linear(512, 256),\n",
    "            nn.ReLU(inplace=True)\n",
    "        )\n",
    "        \n",
    "        #self.dropout = nn.Dropout(0.25)\n",
    "        \n",
    "            \n",
    "    def forward(self, x):\n",
    "        out = self.layer1(x)\n",
    "        out = self.layer2(out)\n",
    "        out = self.layer3(out)       \n",
    "        out = out.reshape(out.size(0), -1)\n",
    "        out = self.fc_layer_1(out)\n",
    "        #out = self.dropout(out)\n",
    "        out = self.fc_layer_2(out)\n",
    "        #out = self.dropout(out)\n",
    "        out = self.fc_layer_3(out)\n",
    "        \n",
    "        return out"
   ]
  },
  {
   "cell_type": "code",
   "execution_count": 44,
   "metadata": {
    "ExecuteTime": {
     "end_time": "2021-06-27T20:11:16.375209Z",
     "start_time": "2021-06-27T20:11:16.276252Z"
    }
   },
   "outputs": [],
   "source": [
    "model = ConvNet()\n",
    "\n",
    "# Loss and opitimizer\n",
    "criterion = nn.CrossEntropyLoss()\n",
    "optimizer = torch.optim.Adam(model.parameters(), lr=learning_rate)"
   ]
  },
  {
   "cell_type": "code",
   "execution_count": 27,
   "metadata": {
    "ExecuteTime": {
     "end_time": "2021-06-27T06:53:22.167973Z",
     "start_time": "2021-06-27T06:26:24.080359Z"
    }
   },
   "outputs": [
    {
     "name": "stdout",
     "output_type": "stream",
     "text": [
      "Epoch [1/6], Step [250/250], training Loss: 0.0209, training Accuracy: 25.06%\n",
      "Epoch [2/6], Step [250/250], training Loss: 0.0148, training Accuracy: 45.84%\n",
      "Epoch [3/6], Step [250/250], training Loss: 0.0129, training Accuracy: 53.97%\n",
      "Epoch [4/6], Step [250/250], training Loss: 0.0112, training Accuracy: 59.98%\n",
      "Epoch [5/6], Step [250/250], training Loss: 0.0097, training Accuracy: 66.18%\n",
      "Epoch [6/6], Step [250/250], training Loss: 0.0083, training Accuracy: 70.92%\n"
     ]
    }
   ],
   "source": [
    "# Train the model\n",
    "total_step = len(train_loader)\n",
    "train_loss = []\n",
    "train_acc = []\n",
    "\n",
    "tb = SummaryWriter()\n",
    "\n",
    "for epoch in range(num_epochs):\n",
    "    total_loss = 0\n",
    "    total_correct = 0\n",
    "    for i, (images, labels) in enumerate(train_loader):\n",
    "            \n",
    "        # Run the forward pass\n",
    "        outputs = model(images)\n",
    "        loss = criterion(outputs, labels)\n",
    "        train_loss.append(loss.item())\n",
    "        total_loss += loss.item()\n",
    "\n",
    "        # Backprop\n",
    "        optimizer.zero_grad()\n",
    "        loss.backward()\n",
    "        optimizer.step()\n",
    "\n",
    "        # Track the accuracy\n",
    "        total = labels.size(0)\n",
    "        _, predicted = torch.max(outputs.data, 1)\n",
    "        correct = (predicted == labels).sum().item()\n",
    "        total_correct += (predicted == labels).sum().item()\n",
    "        train_acc.append(correct / total)\n",
    "\n",
    "    tb.add_scalar(\"Dropout Train Loss\", total_loss/len(part_train), epoch)\n",
    "    tb.add_scalar(\"Dropout Train Accuracy\", total_correct/len(part_train), epoch)\n",
    "        \n",
    "    print('Epoch [{}/{}], Step [{}/{}], training Loss: {:.4f}, training Accuracy: {:.2f}%'\n",
    "              .format(epoch + 1, num_epochs, i + 1, total_step, total_loss/len(part_train),\n",
    "                      (total_correct / len(part_train)) * 100))\n",
    "\n",
    "    \n",
    "tb.close()"
   ]
  },
  {
   "cell_type": "code",
   "execution_count": 46,
   "metadata": {
    "ExecuteTime": {
     "end_time": "2021-06-27T06:54:35.978532Z",
     "start_time": "2021-06-27T06:54:09.236587Z"
    }
   },
   "outputs": [
    {
     "name": "stdout",
     "output_type": "stream",
     "text": [
      "Test Accuracy of the model on all test images: 56.96 %\n"
     ]
    }
   ],
   "source": [
    "# Test the model\n",
    "model.eval()\n",
    "test_int_acc = []\n",
    "test_int_loss = []\n",
    "\n",
    "int_correct = 0\n",
    "int_total = 0\n",
    "int_total_loss = 0\n",
    "\n",
    "tb = SummaryWriter()\n",
    "\n",
    "with torch.no_grad():\n",
    "    for i, (int_images, int_labels) in enumerate(test_loader):\n",
    "        int_outputs = model(int_images)\n",
    "        int_loss = criterion(int_outputs, int_labels)\n",
    "        test_int_loss.append(int_loss.item())\n",
    "        int_total_loss += int_loss.item()\n",
    "\n",
    "        _, predicted = torch.max(int_outputs.data, 1)\n",
    "        int_total += int_labels.size(0)\n",
    "        int_correct += (predicted == int_labels).sum().item()\n",
    "        correct = (predicted == labels).sum().item()\n",
    "        test_int_acc.append(correct / int_labels.size(0))\n",
    "        \n",
    "        tb.add_scalar(\"L2 Test Loss\", int_loss.item(), i)\n",
    "        tb.add_scalar(\"L2 Test Accuracy\", correct, i)\n",
    "\n",
    "    print('Test Accuracy of the model on all test images: {} %'.format((int_correct / int_total) * 100))\n",
    "    \n",
    "\n",
    "tb.close()"
   ]
  },
  {
   "cell_type": "code",
   "execution_count": 14,
   "metadata": {
    "ExecuteTime": {
     "end_time": "2021-06-27T08:43:54.225941Z",
     "start_time": "2021-06-27T08:43:53.911928Z"
    }
   },
   "outputs": [
    {
     "data": {
      "image/png": "[encoded data removed]",
      "text/plain": [
       "<Figure size 720x360 with 1 Axes>"
      ]
     },
     "metadata": {
      "needs_background": "light"
     },
     "output_type": "display_data"
    },
    {
     "data": {
      "image/png": "[encoded data removed]",
      "text/plain": [
       "<Figure size 720x360 with 1 Axes>"
      ]
     },
     "metadata": {
      "needs_background": "light"
     },
     "output_type": "display_data"
    }
   ],
   "source": [
    "plt.figure(figsize=(10,5))\n",
    "plt.title(\"Training loss\")\n",
    "plt.plot(train_loss,label=\"train loss\")\n",
    "plt.xlabel(\"iterations\")\n",
    "plt.ylabel(\"Loss\")\n",
    "plt.legend()\n",
    "plt.show()\n",
    "\n",
    "plt.figure(figsize=(10,5))\n",
    "plt.title(\"Training accuracy\")\n",
    "plt.plot(train_acc,label=\"train accuracy\")\n",
    "plt.xlabel(\"iterations\")\n",
    "plt.ylabel(\"Accuracy\")\n",
    "plt.legend()\n",
    "plt.show()"
   ]
  },
  {
   "cell_type": "code",
   "execution_count": 11,
   "metadata": {
    "ExecuteTime": {
     "end_time": "2021-06-27T08:43:25.835182Z",
     "start_time": "2021-06-27T08:43:25.703989Z"
    }
   },
   "outputs": [],
   "source": [
    "p = figure(y_axis_label='Loss', width=850, y_range=(0, 5), title='PyTorch ConvNet results')\n",
    "p.extra_y_ranges = {'Accuracy': Range1d(start=0, end=100)}\n",
    "p.add_layout(LinearAxis(y_range_name='Accuracy', axis_label='Accuracy (%)'), 'right')\n",
    "p.line(np.arange(len(train_loss)), train_loss, color='green')\n",
    "p.line(np.arange(len(train_loss)), np.array(train_acc) * 100, y_range_name='Accuracy', color='red')\n",
    "show(p)"
   ]
  },
  {
   "cell_type": "code",
   "execution_count": 36,
   "metadata": {
    "ExecuteTime": {
     "end_time": "2021-06-27T08:10:39.742509Z",
     "start_time": "2021-06-27T08:10:39.739399Z"
    }
   },
   "outputs": [],
   "source": [
    "lambda_l1 = 0.001\n",
    "lambda_l2 = 0.001"
   ]
  },
  {
   "cell_type": "code",
   "execution_count": 39,
   "metadata": {
    "ExecuteTime": {
     "end_time": "2021-06-27T08:36:43.057002Z",
     "start_time": "2021-06-27T08:10:42.240364Z"
    }
   },
   "outputs": [
    {
     "name": "stdout",
     "output_type": "stream",
     "text": [
      "Epoch [1/6], Step [250/250], training Loss: 0.0300, training Accuracy: 9.98%\n",
      "Epoch [2/6], Step [250/250], training Loss: 0.0232, training Accuracy: 10.62%\n",
      "Epoch [3/6], Step [250/250], training Loss: 0.0223, training Accuracy: 14.69%\n",
      "Epoch [4/6], Step [250/250], training Loss: 0.0221, training Accuracy: 16.15%\n",
      "Epoch [5/6], Step [250/250], training Loss: 0.0220, training Accuracy: 17.22%\n",
      "Epoch [6/6], Step [250/250], training Loss: 0.0218, training Accuracy: 18.00%\n"
     ]
    }
   ],
   "source": [
    "# L1 Regularization\n",
    "\n",
    "# Train the model\n",
    "total_step = len(train_loader)\n",
    "train_loss = []\n",
    "train_acc = []\n",
    "\n",
    "tb = SummaryWriter()\n",
    "\n",
    "for epoch in range(num_epochs):\n",
    "    total_loss = 0\n",
    "    total_correct = 0\n",
    "    for i, (images, labels) in enumerate(train_loader):\n",
    "            \n",
    "        # Run the forward pass\n",
    "        outputs = model(images)\n",
    "        loss = criterion(outputs, labels)\n",
    "        train_loss.append(loss.item())\n",
    "        total_loss += loss.item()\n",
    "\n",
    "        # Backprop\n",
    "        optimizer.zero_grad()\n",
    "        \n",
    "        l1_norm = sum(param.abs().sum() for param in model.parameters())\n",
    "        loss = loss + lambda_l1 * l1_norm\n",
    "        \n",
    "        loss.backward()\n",
    "        optimizer.step()\n",
    "\n",
    "        # Track the accuracy\n",
    "        total = labels.size(0)\n",
    "        _, predicted = torch.max(outputs.data, 1)\n",
    "        correct = (predicted == labels).sum().item()\n",
    "        total_correct += (predicted == labels).sum().item()\n",
    "        train_acc.append(correct / total)\n",
    "\n",
    "    tb.add_scalar(\"L1 Train Loss\", total_loss/len(part_train), epoch)\n",
    "    tb.add_scalar(\"L1 Train Accuracy\", total_correct/len(part_train), epoch)\n",
    "        \n",
    "    print('Epoch [{}/{}], Step [{}/{}], training Loss: {:.4f}, training Accuracy: {:.2f}%'\n",
    "              .format(epoch + 1, num_epochs, i + 1, total_step, total_loss/len(part_train),\n",
    "                      (total_correct / len(part_train)) * 100))\n",
    "\n",
    "    \n",
    "tb.close()"
   ]
  },
  {
   "cell_type": "code",
   "execution_count": 45,
   "metadata": {
    "ExecuteTime": {
     "end_time": "2021-06-27T09:12:41.225160Z",
     "start_time": "2021-06-27T08:47:02.479095Z"
    }
   },
   "outputs": [
    {
     "name": "stdout",
     "output_type": "stream",
     "text": [
      "Epoch [1/6], Step [250/250], training Loss: 0.0282, training Accuracy: 17.78%\n",
      "Epoch [2/6], Step [250/250], training Loss: 0.0197, training Accuracy: 35.59%\n",
      "Epoch [3/6], Step [250/250], training Loss: 0.0148, training Accuracy: 44.81%\n",
      "Epoch [4/6], Step [250/250], training Loss: 0.0136, training Accuracy: 50.04%\n",
      "Epoch [5/6], Step [250/250], training Loss: 0.0126, training Accuracy: 53.67%\n",
      "Epoch [6/6], Step [250/250], training Loss: 0.0118, training Accuracy: 57.52%\n"
     ]
    }
   ],
   "source": [
    "# L2 Regularization\n",
    "\n",
    "# Train the model\n",
    "total_step = len(train_loader)\n",
    "train_loss = []\n",
    "train_acc = []\n",
    "\n",
    "tb = SummaryWriter()\n",
    "\n",
    "for epoch in range(num_epochs):\n",
    "    total_loss = 0\n",
    "    total_correct = 0\n",
    "    for i, (images, labels) in enumerate(train_loader):\n",
    "            \n",
    "        # Run the forward pass\n",
    "        outputs = model(images)\n",
    "        loss = criterion(outputs, labels)\n",
    "        train_loss.append(loss.item())\n",
    "        total_loss += loss.item()\n",
    "\n",
    "        # Backprop\n",
    "        optimizer.zero_grad()\n",
    "        \n",
    "        #l1_norm = sum(param.abs().sum() for param in model.parameters())\n",
    "        #loss = loss + lambda_l1 * l1_norm\n",
    "        \n",
    "        l2_norm = sum(p.pow(2.0).sum() for p in model.parameters())\n",
    "        loss = loss + lambda_l1 * l2_norm\n",
    "        \n",
    "        \n",
    "        \n",
    "        loss.backward()\n",
    "        optimizer.step()\n",
    "\n",
    "        # Track the accuracy\n",
    "        total = labels.size(0)\n",
    "        _, predicted = torch.max(outputs.data, 1)\n",
    "        correct = (predicted == labels).sum().item()\n",
    "        total_correct += (predicted == labels).sum().item()\n",
    "        train_acc.append(correct / total)\n",
    "\n",
    "    tb.add_scalar(\"L2 Train Loss\", total_loss/len(part_train), epoch)\n",
    "    tb.add_scalar(\"L2 Train Accuracy\", total_correct/len(part_train), epoch)\n",
    "        \n",
    "    print('Epoch [{}/{}], Step [{}/{}], training Loss: {:.4f}, training Accuracy: {:.2f}%'\n",
    "              .format(epoch + 1, num_epochs, i + 1, total_step, total_loss/len(part_train),\n",
    "                      (total_correct / len(part_train)) * 100))\n",
    "\n",
    "    \n",
    "tb.close()"
   ]
  }
 ],
 "metadata": {
  "kernelspec": {
   "display_name": "Python 3",
   "language": "python",
   "name": "python3"
  },
  "language_info": {
   "codemirror_mode": {
    "name": "ipython",
    "version": 3
   },
   "file_extension": ".py",
   "mimetype": "text/x-python",
   "name": "python",
   "nbconvert_exporter": "python",
   "pygments_lexer": "ipython3",
   "version": "3.8.5"
  },
  "toc": {
   "base_numbering": 1,
   "nav_menu": {},
   "number_sections": true,
   "sideBar": true,
   "skip_h1_title": false,
   "title_cell": "Table of Contents",
   "title_sidebar": "Contents",
   "toc_cell": false,
   "toc_position": {},
   "toc_section_display": true,
   "toc_window_display": false
  }
 },
 "nbformat": 4,
 "nbformat_minor": 4
}
